{
 "cells": [
  {
   "cell_type": "code",
   "execution_count": null,
   "metadata": {},
   "outputs": [],
   "source": [
    "import numpy as np\n",
    "import matplotlib.pyplot as plt\n",
    "from cellpose import models, io, utils\n",
    "from cellpose.io import imread\n",
    "import os"
   ]
  },
  {
   "cell_type": "code",
   "execution_count": null,
   "metadata": {},
   "outputs": [],
   "source": [
    "#put pathway to your images below:\n",
    "filepath = r\"G:\\Cell targeting CS690\\20240401 testing X1loopTheog2,3,A3,A5,A6\"\n",
    "\n",
    "#changeDirectory to filepath specified\n",
    "os.chdir(filepath)\n",
    "files = os.listdir()\n",
    "print(files)\n",
    "print(len(files)) #the output number should match the number of images in your fold\n",
    "\n",
    "\n",
    "model = models.Cellpose(gpu=False, model_type='cyto2')\n",
    "channels = [[1,3]]"
   ]
  },
  {
   "cell_type": "code",
   "execution_count": null,
   "metadata": {},
   "outputs": [],
   "source": [
    "for i in files:\n",
    "    #sci-kit image API to convert image to Numpy array\n",
    "    image = io.imread(i)\n",
    "    masks = model.eval(image, diameter=18.0, channels=channels)\n",
    "    print(masks)\n",
    "    masks, flows, styles, diams = model.eval(image, diameter=18.8, channels=channels)\n",
    "    io.save_to_png(image, masks, flows, i)\n",
    "    io.masks_flows_to_seg(image, masks, flows, i, diams = 18, channels=channels)\n",
    "    io.save_rois(masks, i)\n",
    "    \n",
    "    "
   ]
  },
  {
   "cell_type": "code",
   "execution_count": null,
   "metadata": {},
   "outputs": [],
   "source": [
    "# DISPLAY RESULTS\n",
    "from cellpose import plot\n",
    "\n",
    "fig = plt.figure(figsize=(12,5))\n",
    "plot.show_segmentation(fig, image, masks, flows[0], channels=channels)\n",
    "plt.tight_layout()\n",
    "plt.show()"
   ]
  }
 ],
 "metadata": {
  "kernelspec": {
   "display_name": "Python 3",
   "language": "python",
   "name": "python3"
  },
  "language_info": {
   "codemirror_mode": {
    "name": "ipython",
    "version": 3
   },
   "file_extension": ".py",
   "mimetype": "text/x-python",
   "name": "python",
   "nbconvert_exporter": "python",
   "pygments_lexer": "ipython3",
   "version": "3.8.13"
  }
 },
 "nbformat": 4,
 "nbformat_minor": 2
}
