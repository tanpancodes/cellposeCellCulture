{
 "cells": [
  {
   "cell_type": "code",
   "execution_count": null,
   "metadata": {},
   "outputs": [],
   "source": [
    "import os\n",
    "import numpy as np\n",
    "\n",
    "from cellpose import plot, utils, io\n",
    "import matplotlib.pyplot as plt\n",
    "from cellpose import models, io, utils\n",
    "from cellpose.io import imread\n",
    "\n",
    "import glob\n",
    "%pip install pandas\n",
    "import pandas as pd\n",
    "\n"
   ]
  },
  {
   "cell_type": "code",
   "execution_count": null,
   "metadata": {},
   "outputs": [],
   "source": [
    "\n",
    "#put pathway to your images below:\n",
    "filepath = r\"G:\\Cell targeting CS690\\20240401 testing X1loopTheog2,3,A3,A5,A6\"\n",
    "\n",
    "\n",
    "#changeDirectory to filepath specified\n",
    "os.chdir(filepath)\n",
    "files = os.listdir()\n",
    "#print(files)\n",
    "#print(len(files)) #the output number should match the number of images in your fold\n",
    "\n",
    "numberofLoops = 0\n",
    "\n",
    "print(glob.glob('*.np[yz]'))\n",
    "\n",
    "fileNamesArr = np.array([])\n",
    "cellCountsArr = np.array([])\n",
    "\n",
    "numpy_vars = {}\n",
    "for np_name in glob.glob('*.np[yz]'):\n",
    "    numpy_vars[np_name] = np.load(np_name, allow_pickle=True).item()\n",
    "    dat = numpy_vars[np_name]\n",
    "    outlines = utils.outlines_list(dat['masks'])\n",
    "\n",
    "    count =0\n",
    "    for o in outlines:\n",
    "        #plt.plot(o[:,0], o[:,1], color='r')\n",
    "        count += 1\n",
    "    print(np_name)\n",
    "    print(count)\n",
    "    fileNamesArr = np.append(fileNamesArr, np_name)\n",
    "    cellCountsArr = np.append(cellCountsArr, count)\n",
    "\n",
    "\n",
    "print(cellCountsArr)\n",
    "\n",
    "df = pd.DataFrame(np.vstack((fileNamesArr, cellCountsArr)))\n",
    "\n",
    "\n",
    "df = df.transpose()\n",
    "df.head()\n",
    "df.columns = ['fileName', 'cellCounts']\n",
    "\n",
    "#change the name of the output csv here if you want\n",
    "df.to_csv('new.csv', index=False)  "
   ]
  }
 ],
 "metadata": {
  "kernelspec": {
   "display_name": "Python 3",
   "language": "python",
   "name": "python3"
  },
  "language_info": {
   "codemirror_mode": {
    "name": "ipython",
    "version": 3
   },
   "file_extension": ".py",
   "mimetype": "text/x-python",
   "name": "python",
   "nbconvert_exporter": "python",
   "pygments_lexer": "ipython3",
   "version": "3.8.13"
  }
 },
 "nbformat": 4,
 "nbformat_minor": 2
}
